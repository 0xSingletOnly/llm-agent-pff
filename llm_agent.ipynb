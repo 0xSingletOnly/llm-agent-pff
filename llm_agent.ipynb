{
 "cells": [
  {
   "cell_type": "markdown",
   "metadata": {},
   "source": [
    "# LLM Agent"
   ]
  },
  {
   "cell_type": "markdown",
   "metadata": {},
   "source": [
    "## Planner"
   ]
  },
  {
   "cell_type": "code",
   "execution_count": null,
   "metadata": {},
   "outputs": [],
   "source": [
    "planner_decomp_template = '''GENERAL INSTRUCTIONS\n",
    "You are a domain expert. Your task is to break down a complex question into simpler sub-parts. \\\n",
    "If there is no need to break down the question, just reply with \"nil\".\n",
    "\n",
    "USER QUESTION\n",
    "{{user_question}}\n",
    "\n",
    "ANSWER FORMAT\n",
    "{\"sub-questions\":[\"FILL\"]}\n",
    "'''"
   ]
  }
 ],
 "metadata": {
  "kernelspec": {
   "display_name": "if",
   "language": "python",
   "name": "python3"
  },
  "language_info": {
   "name": "python",
   "version": "3.9.18"
  }
 },
 "nbformat": 4,
 "nbformat_minor": 2
}
